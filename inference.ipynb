{
 "cells": [
  {
   "cell_type": "code",
   "execution_count": 1,
   "metadata": {},
   "outputs": [],
   "source": [
    "import torch\n",
    "import torchvision.transforms as transforms\n",
    "import cv2\n",
    "from model.resnet import Resnet34Triplet\n"
   ]
  },
  {
   "cell_type": "code",
   "execution_count": 2,
   "metadata": {},
   "outputs": [],
   "source": [
    "from fpt.data import join_face_df\n",
    "from fpt.path import DTFR\n",
    "from fpt.split import read_split"
   ]
  },
  {
   "cell_type": "code",
   "execution_count": 3,
   "metadata": {},
   "outputs": [],
   "source": [
    "DATA_CATEGORY = \"aihub_family\"\n",
    "SPLIT = \"valid\""
   ]
  },
  {
   "cell_type": "code",
   "execution_count": 4,
   "metadata": {},
   "outputs": [],
   "source": [
    "flag_gpu_available = torch.cuda.is_available()\n",
    "if flag_gpu_available:\n",
    "    device = torch.device(\"cuda\")\n",
    "else:\n",
    "    device = torch.device(\"cpu\")\n"
   ]
  },
  {
   "cell_type": "code",
   "execution_count": 5,
   "metadata": {},
   "outputs": [],
   "source": [
    "checkpoint = torch.load(\"model/model_resnet34_triplet.pt\", map_location=device)\n",
    "model = Resnet34Triplet(embedding_dimension=checkpoint[\"embedding_dimension\"])\n",
    "model.load_state_dict(checkpoint[\"model_state_dict\"])\n",
    "best_distance_threshold = checkpoint[\"best_distance_threshold\"]"
   ]
  },
  {
   "cell_type": "code",
   "execution_count": null,
   "metadata": {},
   "outputs": [],
   "source": [
    "model.to(device)\n",
    "model.eval()"
   ]
  },
  {
   "cell_type": "code",
   "execution_count": 7,
   "metadata": {},
   "outputs": [],
   "source": [
    "preprocess = transforms.Compose(\n",
    "    [\n",
    "        transforms.ToPILImage(),\n",
    "        transforms.Resize(size=140),  # Pre-trained model uses 140x140 input images\n",
    "        transforms.ToTensor(),\n",
    "        transforms.Normalize(\n",
    "            mean=[\n",
    "                0.6071,\n",
    "                0.4609,\n",
    "                0.3944,\n",
    "            ],  # Normalization settings for the model, the calculated mean and std values\n",
    "            std=[\n",
    "                0.2457,\n",
    "                0.2175,\n",
    "                0.2129,\n",
    "            ],  # for the RGB channels of the tightly-cropped glint360k face dataset\n",
    "        ),\n",
    "    ]\n",
    ")\n"
   ]
  },
  {
   "cell_type": "code",
   "execution_count": null,
   "metadata": {},
   "outputs": [],
   "source": [
    "face = join_face_df(DTFR, DATA_CATEGORY)\n",
    "valid_face_uuids = read_split(SPLIT)\n",
    "x_valid = face.loc[valid_face_uuids]"
   ]
  },
  {
   "cell_type": "code",
   "execution_count": 9,
   "metadata": {},
   "outputs": [
    {
     "data": {
      "text/plain": [
       "(1, 512)"
      ]
     },
     "execution_count": 9,
     "metadata": {},
     "output_type": "execute_result"
    }
   ],
   "source": [
    "img = cv2.imread(x_valid.iloc[0].image)  # Or from a cv2 video capture stream\n",
    "\n",
    "# Note that you need to use a face detection model here to crop the face from the image and then\n",
    "#  create a new face image object that will be inputted to the facial recognition model later.\n",
    "\n",
    "# Convert the image from BGR color (which OpenCV uses) to RGB color\n",
    "img = img[:, :, ::-1]\n",
    "\n",
    "img = preprocess(img)\n",
    "img = img.unsqueeze(0)\n",
    "img = img.to(device)\n",
    "\n",
    "embedding = model(img)\n",
    "\n",
    "# Turn embedding Torch Tensor to Numpy array\n",
    "embedding = embedding.cpu().detach().numpy()\n",
    "embedding.shape"
   ]
  }
 ],
 "metadata": {
  "kernelspec": {
   "display_name": "face",
   "language": "python",
   "name": "python3"
  },
  "language_info": {
   "codemirror_mode": {
    "name": "ipython",
    "version": 3
   },
   "file_extension": ".py",
   "mimetype": "text/x-python",
   "name": "python",
   "nbconvert_exporter": "python",
   "pygments_lexer": "ipython3",
   "version": "3.7.12"
  },
  "orig_nbformat": 4
 },
 "nbformat": 4,
 "nbformat_minor": 2
}
