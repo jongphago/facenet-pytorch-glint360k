{
 "cells": [
  {
   "cell_type": "code",
   "execution_count": 21,
   "metadata": {},
   "outputs": [],
   "source": [
    "import torch\n",
    "import torch.nn as nn\n",
    "import torch.optim as optim\n",
    "import torchvision.transforms as transforms\n",
    "from torch.nn.modules.distance import PairwiseDistance\n",
    "from datasets.AIHubDataset import AIHubDataset\n",
    "from validate_aihub import validate_aihub\n",
    "from tqdm import tqdm\n",
    "from model.inceptionresnetv2 import InceptionResnetV2Triplet\n",
    "from model.mobilenetv2 import MobileNetV2Triplet\n",
    "from model.resnet import (\n",
    "    Resnet18Triplet,\n",
    "    Resnet34Triplet,\n",
    "    Resnet50Triplet,\n",
    "    Resnet101Triplet,\n",
    "    Resnet152Triplet,\n",
    ")"
   ]
  },
  {
   "cell_type": "code",
   "execution_count": 22,
   "metadata": {},
   "outputs": [],
   "source": [
    "def set_model_architecture(model_architecture, pretrained, embedding_dimension):\n",
    "    if model_architecture == \"resnet18\":\n",
    "        model = Resnet18Triplet(\n",
    "            embedding_dimension=embedding_dimension, pretrained=pretrained\n",
    "        )\n",
    "    elif model_architecture == \"resnet34\":\n",
    "        model = Resnet34Triplet(\n",
    "            embedding_dimension=embedding_dimension, pretrained=pretrained\n",
    "        )\n",
    "    elif model_architecture == \"resnet50\":\n",
    "        model = Resnet50Triplet(\n",
    "            embedding_dimension=embedding_dimension, pretrained=pretrained\n",
    "        )\n",
    "    elif model_architecture == \"resnet101\":\n",
    "        model = Resnet101Triplet(\n",
    "            embedding_dimension=embedding_dimension, pretrained=pretrained\n",
    "        )\n",
    "    elif model_architecture == \"resnet152\":\n",
    "        model = Resnet152Triplet(\n",
    "            embedding_dimension=embedding_dimension, pretrained=pretrained\n",
    "        )\n",
    "    elif model_architecture == \"inceptionresnetv2\":\n",
    "        model = InceptionResnetV2Triplet(\n",
    "            embedding_dimension=embedding_dimension, pretrained=pretrained\n",
    "        )\n",
    "    elif model_architecture == \"mobilenetv2\":\n",
    "        model = MobileNetV2Triplet(\n",
    "            embedding_dimension=embedding_dimension, pretrained=pretrained\n",
    "        )\n",
    "    print(\"Using {} model architecture.\".format(model_architecture))\n",
    "\n",
    "    return model"
   ]
  },
  {
   "cell_type": "code",
   "execution_count": 23,
   "metadata": {},
   "outputs": [],
   "source": [
    "def set_model_gpu_mode(model):\n",
    "    flag_train_gpu = torch.cuda.is_available()\n",
    "    flag_train_multi_gpu = False\n",
    "\n",
    "    if flag_train_gpu and torch.cuda.device_count() > 1:\n",
    "        model = nn.DataParallel(model)\n",
    "        model.cuda()\n",
    "        flag_train_multi_gpu = True\n",
    "        print(\"Using multi-gpu training.\")\n",
    "\n",
    "    elif flag_train_gpu and torch.cuda.device_count() == 1:\n",
    "        model.cuda()\n",
    "        print(\"Using single-gpu training.\")\n",
    "\n",
    "    return model, flag_train_multi_gpu"
   ]
  },
  {
   "cell_type": "code",
   "execution_count": 24,
   "metadata": {},
   "outputs": [],
   "source": [
    "def set_optimizer(optimizer, model, learning_rate):\n",
    "    if optimizer == \"sgd\":\n",
    "        optimizer_model = optim.SGD(\n",
    "            params=model.parameters(),\n",
    "            lr=learning_rate,\n",
    "            momentum=0.9,\n",
    "            dampening=0,\n",
    "            nesterov=False,\n",
    "            weight_decay=1e-5,\n",
    "        )\n",
    "\n",
    "    elif optimizer == \"adagrad\":\n",
    "        optimizer_model = optim.Adagrad(\n",
    "            params=model.parameters(),\n",
    "            lr=learning_rate,\n",
    "            lr_decay=0,\n",
    "            initial_accumulator_value=0.1,\n",
    "            eps=1e-10,\n",
    "            weight_decay=1e-5,\n",
    "        )\n",
    "\n",
    "    elif optimizer == \"rmsprop\":\n",
    "        optimizer_model = optim.RMSprop(\n",
    "            params=model.parameters(),\n",
    "            lr=learning_rate,\n",
    "            alpha=0.99,\n",
    "            eps=1e-08,\n",
    "            momentum=0,\n",
    "            centered=False,\n",
    "            weight_decay=1e-5,\n",
    "        )\n",
    "\n",
    "    elif optimizer == \"adam\":\n",
    "        optimizer_model = optim.Adam(\n",
    "            params=model.parameters(),\n",
    "            lr=learning_rate,\n",
    "            betas=(0.9, 0.999),\n",
    "            eps=1e-08,\n",
    "            amsgrad=False,\n",
    "            weight_decay=1e-5,\n",
    "        )\n",
    "\n",
    "    return optimizer_model"
   ]
  },
  {
   "cell_type": "code",
   "execution_count": 25,
   "metadata": {},
   "outputs": [],
   "source": [
    "# dataroot = \"data/face-image/train_aihub_family\"\n",
    "# lfw_dataroot = \"data/face-image/lfw_224\"\n",
    "aihub_dataroot = \"data/face-image/test_aihub_family\"\n",
    "# training_dataset_csv_path = \"aihub_train.csv\"\n",
    "epochs = 2  # 150\n",
    "# iterations_per_epoch = 10  # 5000\n",
    "model_architecture = \"resnet34\"\n",
    "pretrained = True  # False\n",
    "embedding_dimension = 512\n",
    "# num_human_identities_per_batch = 32\n",
    "# batch_size = 100  # 544\n",
    "lfw_batch_size = 200\n",
    "# resume_path = \"\"\n",
    "num_workers = 4\n",
    "optimizer = \"adagrad\"\n",
    "learning_rate = 0.075\n",
    "margin = 0.2\n",
    "image_size = 140\n",
    "use_semihard_negatives = False\n",
    "training_triplets_path = None"
   ]
  },
  {
   "cell_type": "code",
   "execution_count": 26,
   "metadata": {},
   "outputs": [],
   "source": [
    "flag_training_triplets_path = False\n",
    "start_epoch = 0\n",
    "\n",
    "if training_triplets_path is not None:\n",
    "    flag_training_triplets_path = (\n",
    "        True  # Load triplets file for the first training epoch\n",
    "    )"
   ]
  },
  {
   "cell_type": "code",
   "execution_count": 27,
   "metadata": {},
   "outputs": [],
   "source": [
    "# Define image data pre-processing transforms\n",
    "aihub_mean = [0.5444, 0.4335, 0.3800]\n",
    "aihub_std = [0.2672, 0.2295, 0.2156]\n",
    "aihub_transforms = transforms.Compose(\n",
    "    [\n",
    "        transforms.Resize(size=(image_size, image_size)),\n",
    "        transforms.ToTensor(),\n",
    "        transforms.Normalize(mean=aihub_mean, std=aihub_std),\n",
    "    ]\n",
    ")"
   ]
  },
  {
   "cell_type": "code",
   "execution_count": 28,
   "metadata": {},
   "outputs": [],
   "source": [
    "TASK_CATEGORY = \"Family\"\n",
    "aihub_dataloader = torch.utils.data.DataLoader(\n",
    "    \n",
    "    dataset=AIHubDataset(\n",
    "        dir=aihub_dataroot,\n",
    "        pairs_path=f\"data/pairs/test/pairs_{TASK_CATEGORY}.txt\",\n",
    "        transform=aihub_transforms,\n",
    "    ),\n",
    "    batch_size=lfw_batch_size,\n",
    "    num_workers=num_workers,\n",
    "    shuffle=False,\n",
    ")"
   ]
  },
  {
   "cell_type": "code",
   "execution_count": 29,
   "metadata": {},
   "outputs": [
    {
     "name": "stdout",
     "output_type": "stream",
     "text": [
      "Using resnet34 model architecture.\n",
      "Using single-gpu training.\n"
     ]
    }
   ],
   "source": [
    "# Instantiate model\n",
    "model = set_model_architecture(\n",
    "    model_architecture=model_architecture,\n",
    "    pretrained=pretrained,\n",
    "    embedding_dimension=embedding_dimension,\n",
    ")\n",
    "\n",
    "# Load model to GPU or multiple GPUs if available\n",
    "model, flag_train_multi_gpu = set_model_gpu_mode(model)\n",
    "\n",
    "# Set optimizer\n",
    "optimizer_model = set_optimizer(\n",
    "    optimizer=optimizer, model=model, learning_rate=learning_rate\n",
    ")"
   ]
  },
  {
   "cell_type": "code",
   "execution_count": 30,
   "metadata": {},
   "outputs": [
    {
     "name": "stdout",
     "output_type": "stream",
     "text": [
      "Task category, Pre-trained\n",
      "Family, True\n",
      "Validating on AIHUB! ...\n"
     ]
    },
    {
     "name": "stderr",
     "output_type": "stream",
     "text": [
      "100%|██████████| 30/30 [00:16<00:00,  1.77it/s]\n"
     ]
    },
    {
     "name": "stdout",
     "output_type": "stream",
     "text": [
      "Accuracy on AIHUB: 0.8465+-0.0098\tPrecision 0.8475+-0.0252\tRecall 0.8470+-0.0242\tROC Area Under Curve: 0.9300\tBest distance threshold: 0.53+-0.01\tTAR: 0.1067+-0.0176 @ FAR: 0.0010\n",
      "Accuracy on AIHUB, Precision, Recall, ROC Area Under Curve, Best distance threshold TAR, FAR\n",
      "0.8465+-0.0098, 0.8475+-0.0252, 0.8470+-0.0242,0.9300, 0.53+-0.01,0.1067+-0.0176, 0.0010\n"
     ]
    }
   ],
   "source": [
    "# Evaluation pass on LFW dataset\n",
    "print(f\"Task category, Pre-trained\")\n",
    "print(f\"{TASK_CATEGORY}, {pretrained}\")\n",
    "for epoch in range(epochs):\n",
    "    best_distances = validate_aihub(\n",
    "        model=model,\n",
    "        aihub_dataloader=aihub_dataloader,\n",
    "        model_architecture=model_architecture,\n",
    "        epoch=epoch\n",
    "    )\n",
    "    break"
   ]
  }
 ],
 "metadata": {
  "kernelspec": {
   "display_name": "face",
   "language": "python",
   "name": "python3"
  },
  "language_info": {
   "codemirror_mode": {
    "name": "ipython",
    "version": 3
   },
   "file_extension": ".py",
   "mimetype": "text/x-python",
   "name": "python",
   "nbconvert_exporter": "python",
   "pygments_lexer": "ipython3",
   "version": "3.7.12"
  },
  "orig_nbformat": 4
 },
 "nbformat": 4,
 "nbformat_minor": 2
}
