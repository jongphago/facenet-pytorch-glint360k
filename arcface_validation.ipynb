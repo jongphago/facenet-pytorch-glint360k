{
 "cells": [
  {
   "cell_type": "code",
   "execution_count": null,
   "metadata": {},
   "outputs": [],
   "source": [
    "import torch\n",
    "import torch.nn as nn\n",
    "import torch.optim as optim\n",
    "import torchvision.transforms as transforms\n",
    "from torch.nn.modules.distance import PairwiseDistance\n",
    "from datasets.AIHubDataset import AIHubDataset\n",
    "from validate_aihub import validate_aihub\n",
    "from tqdm import tqdm\n",
    "from model.inceptionresnetv2 import InceptionResnetV2Triplet\n",
    "from model.mobilenetv2 import MobileNetV2Triplet\n",
    "from model.resnet import (\n",
    "    Resnet18Triplet,\n",
    "    Resnet34Triplet,\n",
    "    Resnet50Triplet,\n",
    "    Resnet101Triplet,\n",
    "    Resnet152Triplet,\n",
    ")"
   ]
  },
  {
   "cell_type": "code",
   "execution_count": null,
   "metadata": {},
   "outputs": [],
   "source": [
    "from insightface.recognition.arcface_torch.backbones import get_model"
   ]
  },
  {
   "cell_type": "code",
   "execution_count": null,
   "metadata": {},
   "outputs": [],
   "source": [
    "# dataroot = \"data/face-image/train_aihub_family\"\n",
    "# lfw_dataroot = \"data/face-image/lfw_224\"\n",
    "aihub_dataroot = \"data/face-image/test_aihub_family\"\n",
    "# training_dataset_csv_path = \"aihub_train.csv\"\n",
    "epochs = 2  # 150\n",
    "# iterations_per_epoch = 10  # 5000\n",
    "model_architecture = \"r50\"\n",
    "pretrained = False # False\n",
    "# embedding_dimension = 512\n",
    "# # num_human_identities_per_batch = 32\n",
    "# # batch_size = 100  # 544\n",
    "lfw_batch_size = 200\n",
    "# # resume_path = \"\"\n",
    "num_workers = 4\n",
    "# optimizer = \"adagrad\"\n",
    "# learning_rate = 0.075\n",
    "# margin = 0.2\n",
    "image_size = 112\n",
    "# use_semihard_negatives = False\n",
    "# training_triplets_path = None"
   ]
  },
  {
   "cell_type": "code",
   "execution_count": null,
   "metadata": {},
   "outputs": [],
   "source": [
    "# Define image data pre-processing transforms\n",
    "aihub_mean = [0.5444, 0.4335, 0.3800]\n",
    "aihub_std = [0.2672, 0.2295, 0.2156]\n",
    "aihub_transforms = transforms.Compose(\n",
    "    [\n",
    "        transforms.Resize(size=(image_size, image_size)),\n",
    "        transforms.ToTensor(),\n",
    "        transforms.Normalize(mean=aihub_mean, std=aihub_std),\n",
    "    ]\n",
    ")"
   ]
  },
  {
   "cell_type": "code",
   "execution_count": null,
   "metadata": {},
   "outputs": [],
   "source": [
    "TASK_CATEGORY = \"Individuals\"\n",
    "aihub_dataloader = torch.utils.data.DataLoader(\n",
    "    dataset=AIHubDataset(\n",
    "        dir=aihub_dataroot,\n",
    "        pairs_path=f\"data/pairs/test/pairs_{TASK_CATEGORY}.txt\",\n",
    "        transform=aihub_transforms,\n",
    "    ),\n",
    "    batch_size=lfw_batch_size,\n",
    "    num_workers=num_workers,\n",
    "    shuffle=False,\n",
    ")"
   ]
  },
  {
   "cell_type": "code",
   "execution_count": null,
   "metadata": {},
   "outputs": [],
   "source": [
    "model = get_model(model_architecture, fp16=False)\n",
    "model_weights = torch.load(\"/home/jupyter/face/utils/model/arcface/backbone.pth\")\n",
    "model.load_state_dict(model_weights)\n",
    "model.cuda().eval()"
   ]
  },
  {
   "cell_type": "code",
   "execution_count": null,
   "metadata": {},
   "outputs": [],
   "source": [
    "# Evaluation pass on LFW dataset\n",
    "print(f\"Task category\")\n",
    "print(f\"{TASK_CATEGORY}\")\n",
    "for epoch in range(epochs):\n",
    "    best_distances = validate_aihub(\n",
    "        model=model,\n",
    "        aihub_dataloader=aihub_dataloader,\n",
    "        model_architecture=model_architecture,\n",
    "        epoch=epoch\n",
    "    )\n",
    "    break"
   ]
  },
  {
   "cell_type": "code",
   "execution_count": null,
   "metadata": {},
   "outputs": [],
   "source": [
    "from torch.nn.modules.distance import PairwiseDistance\n",
    "\n",
    "\n",
    "model.eval()\n",
    "with torch.no_grad():\n",
    "    l2_distance = PairwiseDistance(p=2)\n",
    "    distances, labels = [], []\n",
    "\n",
    "    print(\"Validating on AIHUB! ...\")\n",
    "    progress_bar = enumerate(tqdm(aihub_dataloader))\n",
    "\n",
    "    for batch_index, (data_a, data_b, label) in progress_bar:\n",
    "        data_a = data_a.cuda()\n",
    "        data_b = data_b.cuda()\n",
    "\n",
    "        output_a, output_b = model(data_a), model(data_b)\n",
    "        distance = l2_distance.forward(output_a, output_b)  # Euclidean distance\n",
    "\n",
    "        distances.append(distance.cpu().detach().numpy())\n",
    "        labels.append(label.cpu().detach().numpy())\n",
    "        break"
   ]
  }
 ],
 "metadata": {
  "kernelspec": {
   "display_name": "face",
   "language": "python",
   "name": "python3"
  },
  "language_info": {
   "codemirror_mode": {
    "name": "ipython",
    "version": 3
   },
   "file_extension": ".py",
   "mimetype": "text/x-python",
   "name": "python",
   "nbconvert_exporter": "python",
   "pygments_lexer": "ipython3",
   "version": "3.7.12"
  },
  "orig_nbformat": 4
 },
 "nbformat": 4,
 "nbformat_minor": 2
}
